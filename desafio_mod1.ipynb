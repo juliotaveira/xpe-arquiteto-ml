{
  "nbformat": 4,
  "nbformat_minor": 0,
  "metadata": {
    "colab": {
      "provenance": [],
      "toc_visible": true,
      "collapsed_sections": [
        "PrwwRzXBUuj7"
      ]
    },
    "kernelspec": {
      "name": "python3",
      "display_name": "Python 3"
    },
    "language_info": {
      "name": "python"
    },
    "accelerator": "GPU",
    "gpuClass": "standard"
  },
  "cells": [
    {
      "cell_type": "markdown",
      "source": [
        "#**Bootcamp Arquiteto de Machine Learning**\n",
        "\n",
        "Desafio do Módulo 1"
      ],
      "metadata": {
        "id": "0kj6aX7KcRTA"
      }
    },
    {
      "cell_type": "markdown",
      "source": [
        "##Carga da Base de Dados"
      ],
      "metadata": {
        "id": "lKvZa5WqcqFf"
      }
    },
    {
      "cell_type": "markdown",
      "source": [
        "###Carrega a base de Dados e deixa na pasta TMP"
      ],
      "metadata": {
        "id": "IpzrmpwkOYUm"
      }
    },
    {
      "cell_type": "code",
      "execution_count": 5,
      "metadata": {
        "colab": {
          "base_uri": "https://localhost:8080/"
        },
        "id": "6CJszY5GHAtv",
        "outputId": "aef8396d-5c99-4dc5-8052-8bbc4259f5ce"
      },
      "outputs": [
        {
          "output_type": "stream",
          "name": "stdout",
          "text": [
            "--2023-01-30 02:46:14--  https://storage.googleapis.com/mledu-datasets/cats_and_dogs_filtered.zip\n",
            "Resolving storage.googleapis.com (storage.googleapis.com)... 142.251.111.128, 142.251.16.128, 142.251.163.128, ...\n",
            "Connecting to storage.googleapis.com (storage.googleapis.com)|142.251.111.128|:443... connected.\n",
            "HTTP request sent, awaiting response... 200 OK\n",
            "Length: 68606236 (65M) [application/zip]\n",
            "Saving to: ‘/tmp/cats_and_dogs_filtered.zip’\n",
            "\n",
            "/tmp/cats_and_dogs_ 100%[===================>]  65.43M   184MB/s    in 0.4s    \n",
            "\n",
            "2023-01-30 02:46:14 (184 MB/s) - ‘/tmp/cats_and_dogs_filtered.zip’ saved [68606236/68606236]\n",
            "\n"
          ]
        }
      ],
      "source": [
        "\n",
        "!wget --no-check-certificate https://storage.googleapis.com/mledu-datasets/cats_and_dogs_filtered.zip -O /tmp/cats_and_dogs_filtered.zip\n"
      ]
    },
    {
      "cell_type": "markdown",
      "source": [
        "###Importa bibliotecas e abre pastas com o zip baixado"
      ],
      "metadata": {
        "id": "elV2kTtJOhqZ"
      }
    },
    {
      "cell_type": "code",
      "source": [
        "import os, cv2, numpy as np\n",
        "import zipfile\n",
        "from matplotlib import pyplot as plt #importa bilbioteca para criação de gráficos\n",
        "from sklearn.model_selection import train_test_split\n",
        "\n",
        "local_zip = '/tmp/cats_and_dogs_filtered.zip'\n",
        "zip_ref = zipfile.ZipFile(local_zip,'r')\n",
        "zip_ref.extractall('/tmp')\n",
        "\n",
        "zip_ref.close()\n",
        "base_dir = '/tmp/cats_and_dogs_filtered'\n",
        "\n",
        "train_dir = os.path.join(base_dir,'train') #Diretório de Treinamento\n",
        "validation_dir = os.path.join(base_dir,'validation')  #Diretório de Validação\n",
        "\n",
        "train_cats_dir = os.path.join(train_dir,'cats') # Diretório com imagens de treinamentos de gatos\n",
        "train_dogs_dir = os.path.join(train_dir, 'dogs') # Diretório com imagens de treinamentos de cachorros\n",
        "\n",
        "validation_cats_dir = os.path.join(validation_dir,'cats') # Diretório com imagens de testes de gatos\n",
        "validation_dogs_dir = os.path.join(validation_dir,'dogs') # Diretório com imagens de testes de cachorros\n",
        "\n"
      ],
      "metadata": {
        "id": "55iurWLMHdew"
      },
      "execution_count": 6,
      "outputs": []
    },
    {
      "cell_type": "markdown",
      "source": [
        "###Abre os arquivos e cria as categorias "
      ],
      "metadata": {
        "id": "W6y4uOSaOnHa"
      }
    },
    {
      "cell_type": "code",
      "source": [
        "\n",
        "def load_images_folder(folder, categoria):\n",
        "  images = []\n",
        "  categorias = []\n",
        "  for filename in os.listdir(folder):\n",
        "    img = cv2.imread(os.path.join(folder,filename))\n",
        "    if img is not None:\n",
        "      #images.append(img)\n",
        "      #Redimensiona imagem conforme questão\n",
        "      img2 = cv2.resize(img,(220,128))\n",
        "     \n",
        "     \n",
        "      images.append(img2)\n",
        "      categorias.append(categoria)\n",
        "  return images, categorias\n",
        "\n",
        "\n",
        "\n",
        "lista_x1, lista_y1 = load_images_folder(train_cats_dir,0)\n",
        "lista_x2, lista_y2 = load_images_folder(train_dogs_dir,1)\n",
        "lista_x3, lista_y3 = load_images_folder(validation_cats_dir,0)\n",
        "lista_x4, lista_y4 = load_images_folder(validation_dogs_dir,1)\n",
        "\n"
      ],
      "metadata": {
        "id": "OIWu-fCLL6P2"
      },
      "execution_count": 7,
      "outputs": []
    },
    {
      "cell_type": "code",
      "source": [
        "#Exibe a quantidade de imagens carregadas\n",
        "print(len(lista_x1))\n",
        "print(len(lista_x2))\n",
        "print(len(lista_x3))\n",
        "print(len(lista_x4))\n",
        "\n",
        "lista_imagens = lista_x1 + lista_x2 + lista_x3 + lista_x4\n",
        "lista_categorias = lista_y1 + lista_y2 + lista_y3 + lista_y4\n",
        "\n",
        "print(\"Total Imagens: \",len(lista_imagens))\n",
        "print(\"Total Categorias: \",len(lista_categorias))\n"
      ],
      "metadata": {
        "colab": {
          "base_uri": "https://localhost:8080/"
        },
        "id": "rBxKvJcgPTus",
        "outputId": "a46b74c7-0ff9-455d-b4f2-1c2a6795b079"
      },
      "execution_count": 8,
      "outputs": [
        {
          "output_type": "stream",
          "name": "stdout",
          "text": [
            "1000\n",
            "1000\n",
            "500\n",
            "500\n",
            "Total Imagens:  3000\n",
            "Total Categorias:  3000\n"
          ]
        }
      ]
    },
    {
      "cell_type": "markdown",
      "source": [
        "###Exibe uma imagem de exemplo, após redimensionar\n",
        "\n",
        "Para testes, exibe uma imagem e sua categoria. Imagem escolhida aleatoriamente."
      ],
      "metadata": {
        "id": "yF6uxFv1Roty"
      }
    },
    {
      "cell_type": "code",
      "source": [
        "from PIL import Image  # Importa biblioteca de image\n",
        "import numpy as np # Importa numpy\n",
        "from google.colab.patches import cv2_imshow # Importa módulo para imprimir imagem\n",
        "import random\n",
        " \n",
        "index =random.randint(0,len(lista_categorias))\n",
        "print(\"Imagem Index: \",index)\n",
        "\n",
        "print(\"Categoria: \",lista_categorias[index])\n",
        "img = np.array(lista_imagens[index])\n",
        "cv2_imshow(img)\n",
        "\n"
      ],
      "metadata": {
        "colab": {
          "base_uri": "https://localhost:8080/",
          "height": 0
        },
        "id": "z5qUhGo7QQlf",
        "outputId": "01574f17-1348-4c8b-c411-760a66122916"
      },
      "execution_count": 9,
      "outputs": [
        {
          "output_type": "stream",
          "name": "stdout",
          "text": [
            "Imagem Index:  511\n",
            "Categoria:  0\n"
          ]
        },
        {
          "output_type": "display_data",
          "data": {
            "text/plain": [
              "<PIL.Image.Image image mode=RGB size=220x128 at 0x7F2870B66B50>"
            ],
            "image/png": "[encoded data removed]"
          },
          "metadata": {}
        }
      ]
    },
    {
      "cell_type": "markdown",
      "source": [],
      "metadata": {
        "id": "aOpvrFYvUueZ"
      }
    },
    {
      "cell_type": "markdown",
      "source": [
        "##Augmentation - imagens sintéticas\n"
      ],
      "metadata": {
        "id": "Rz8oZKs3fTXp"
      }
    },
    {
      "cell_type": "markdown",
      "source": [
        "###Utiliza o Augmentation para gerar novas imagens sintéticas"
      ],
      "metadata": {
        "id": "PrwwRzXBUuj7"
      }
    },
    {
      "cell_type": "code",
      "source": [
        "from keras.preprocessing.image import ImageDataGenerator # Importa biblioteca de data augmentation\n",
        "\n",
        "#Função para gerar N imagens sintéticas\n",
        "def gerarImagemSintetica(img, qtd):\n",
        "  # Cria o objeto de data agumentation\n",
        "  #Varia altura e largura em 20%, rotação em 45graus e zoom entre de 0.8 e 1\n",
        "  shift_altura = 0.2 #20%\n",
        "  shift_largura = 0.2 #20%\n",
        "  rotação_angulo = 45 #45 graus\n",
        "  zoom_start_end = [0.8, 1.0] #Define o Zoom entre 0.8 e 1\n",
        "\n",
        "  aug = ImageDataGenerator(height_shift_range=shift_altura, width_shift_range=shift_largura, \n",
        "                           rotation_range=rotação_angulo, zoom_range=zoom_start_end)\n",
        "\n",
        "  # adiciona uma nova dimensão\n",
        "  imagem = np.array(img)\n",
        "  imagem = np.expand_dims(imagem, axis=0)\n",
        "\n",
        "  # Realiza data augmentation com a imagem passada\n",
        "  imageGen = aug.flow(imagem, batch_size = 1)\n",
        "\n",
        "  resultado = []\n",
        "\n",
        "  # Imprime imagens geradas\n",
        "  for i in range(qtd):\n",
        "    next = imageGen.next()\n",
        "    resultado.append(next[0,:,:,:])#Retira uma dimensão que foi adicionada no início.\n",
        "  return resultado\n",
        "\n",
        "lista_imagens_sinteticas = []\n",
        "lista_categorias_sinteticas = []\n",
        "for i in range(len(lista_imagens)):\n",
        "  \n",
        "  #São 3000 imagens na base. Vamos só pegar 3 em 3 para ficar ao todo 1000, conforme solciitados\n",
        "  if ( i% 3 != 0):\n",
        "    continue\n",
        "\n",
        "  imagem = lista_imagens[i]\n",
        "  categoria = lista_categorias[i]\n",
        "\n",
        "  #Coloca a categoria na categoria buscada\n",
        "  lista_categorias_sinteticas.append(categoria)\n",
        "  lista_imagens_sinteticas = lista_imagens_sinteticas + gerarImagemSintetica(imagem,1)\n",
        "\n",
        "\n",
        "print(\"Imagens Sinteticas Geradas: \", len(lista_imagens_sinteticas))\n",
        "\n",
        "#Junta as imagens sinteticas no final da base\n",
        "lista_imagens = lista_imagens + lista_imagens_sinteticas\n",
        "lista_categorias = lista_categorias + lista_categorias_sinteticas\n",
        "\n",
        "print(\"Total de imagens na base: \", len(lista_imagens))\n",
        "print(\"Total de Categorias na base: \", len(lista_categorias))"
      ],
      "metadata": {
        "colab": {
          "base_uri": "https://localhost:8080/"
        },
        "id": "rT2n14pjTlmA",
        "outputId": "e93955ed-7b4b-4a08-a758-6ca37940741c"
      },
      "execution_count": 10,
      "outputs": [
        {
          "output_type": "stream",
          "name": "stdout",
          "text": [
            "Imagens Sinteticas Geradas:  1000\n",
            "Total de imagens na base:  4000\n",
            "Total de Categorias na base:  4000\n"
          ]
        }
      ]
    },
    {
      "cell_type": "markdown",
      "source": [
        "##Separa os dados de treinamento e testes"
      ],
      "metadata": {
        "id": "_mmNuwP97rRX"
      }
    },
    {
      "cell_type": "code",
      "source": [
        "from sklearn.model_selection import train_test_split\n",
        "\n",
        "lista_imagens_np = np.array(lista_imagens)\n",
        "print(lista_imagens_np.shape)\n",
        "\n",
        "X_train, X_test, y_train, y_test = train_test_split(lista_imagens_np, lista_categorias, test_size=0.30)\n",
        "print(\"Tamanho treinamento: \",len(X_train))\n",
        "print(\"Tamanho testes: \",len(X_test))"
      ],
      "metadata": {
        "colab": {
          "base_uri": "https://localhost:8080/"
        },
        "id": "jAZSdKTB2Gto",
        "outputId": "59d06668-e328-4081-f9bb-898889810e45"
      },
      "execution_count": 11,
      "outputs": [
        {
          "output_type": "stream",
          "name": "stdout",
          "text": [
            "(4000, 128, 220, 3)\n",
            "Tamanho treinamento:  2800\n",
            "Tamanho testes:  1200\n"
          ]
        }
      ]
    },
    {
      "cell_type": "code",
      "source": [
        "print(X_train.shape)"
      ],
      "metadata": {
        "colab": {
          "base_uri": "https://localhost:8080/"
        },
        "id": "CgzSpYmVR6at",
        "outputId": "b7529ab9-6abb-418a-b9e1-b9d5983e7350"
      },
      "execution_count": 8,
      "outputs": [
        {
          "output_type": "stream",
          "name": "stdout",
          "text": [
            "(2800, 128, 220, 3)\n"
          ]
        }
      ]
    },
    {
      "cell_type": "markdown",
      "source": [
        "##Carregar redes"
      ],
      "metadata": {
        "id": "Ntviqu_99iV2"
      }
    },
    {
      "cell_type": "markdown",
      "source": [
        "###Importa e carrega as redes solicitadas. \n",
        "\n",
        "Na importação, foram utilizadas as configurações definidas no enunciado das questões."
      ],
      "metadata": {
        "id": "HISNrDS7iuqm"
      }
    },
    {
      "cell_type": "code",
      "source": [
        "from tensorflow.keras.applications.vgg16 import VGG16\n",
        "from tensorflow.keras.applications.vgg19 import VGG19\n",
        "from tensorflow.keras.applications.resnet import ResNet152\n",
        "from keras.utils import np_utils\n",
        "\n",
        "model_vgg16 = VGG16(weights=None, input_shape=(220,128,3), classes=2)\n",
        "model_vgg19 = VGG19(weights=None, input_shape=(220,128,3), classes=2)\n",
        "model_resnet = ResNet152(weights=None,input_shape=(220,128,3), classes=2)\n"
      ],
      "metadata": {
        "id": "VFvTcHA69lyG"
      },
      "execution_count": 12,
      "outputs": []
    },
    {
      "cell_type": "markdown",
      "source": [
        "###Exibe resumo das redes carregadas"
      ],
      "metadata": {
        "id": "egrmM657jKei"
      }
    },
    {
      "cell_type": "code",
      "source": [
        "print(model_vgg16.summary())\n"
      ],
      "metadata": {
        "id": "F192G7de-XVB",
        "colab": {
          "base_uri": "https://localhost:8080/"
        },
        "outputId": "d2c5741c-b225-4301-fc24-fc40edd8c17d"
      },
      "execution_count": 13,
      "outputs": [
        {
          "output_type": "stream",
          "name": "stdout",
          "text": [
            "Model: \"vgg16\"\n",
            "_________________________________________________________________\n",
            " Layer (type)                Output Shape              Param #   \n",
            "=================================================================\n",
            " input_4 (InputLayer)        [(None, 220, 128, 3)]     0         \n",
            "                                                                 \n",
            " block1_conv1 (Conv2D)       (None, 220, 128, 64)      1792      \n",
            "                                                                 \n",
            " block1_conv2 (Conv2D)       (None, 220, 128, 64)      36928     \n",
            "                                                                 \n",
            " block1_pool (MaxPooling2D)  (None, 110, 64, 64)       0         \n",
            "                                                                 \n",
            " block2_conv1 (Conv2D)       (None, 110, 64, 128)      73856     \n",
            "                                                                 \n",
            " block2_conv2 (Conv2D)       (None, 110, 64, 128)      147584    \n",
            "                                                                 \n",
            " block2_pool (MaxPooling2D)  (None, 55, 32, 128)       0         \n",
            "                                                                 \n",
            " block3_conv1 (Conv2D)       (None, 55, 32, 256)       295168    \n",
            "                                                                 \n",
            " block3_conv2 (Conv2D)       (None, 55, 32, 256)       590080    \n",
            "                                                                 \n",
            " block3_conv3 (Conv2D)       (None, 55, 32, 256)       590080    \n",
            "                                                                 \n",
            " block3_pool (MaxPooling2D)  (None, 27, 16, 256)       0         \n",
            "                                                                 \n",
            " block4_conv1 (Conv2D)       (None, 27, 16, 512)       1180160   \n",
            "                                                                 \n",
            " block4_conv2 (Conv2D)       (None, 27, 16, 512)       2359808   \n",
            "                                                                 \n",
            " block4_conv3 (Conv2D)       (None, 27, 16, 512)       2359808   \n",
            "                                                                 \n",
            " block4_pool (MaxPooling2D)  (None, 13, 8, 512)        0         \n",
            "                                                                 \n",
            " block5_conv1 (Conv2D)       (None, 13, 8, 512)        2359808   \n",
            "                                                                 \n",
            " block5_conv2 (Conv2D)       (None, 13, 8, 512)        2359808   \n",
            "                                                                 \n",
            " block5_conv3 (Conv2D)       (None, 13, 8, 512)        2359808   \n",
            "                                                                 \n",
            " block5_pool (MaxPooling2D)  (None, 6, 4, 512)         0         \n",
            "                                                                 \n",
            " flatten (Flatten)           (None, 12288)             0         \n",
            "                                                                 \n",
            " fc1 (Dense)                 (None, 4096)              50335744  \n",
            "                                                                 \n",
            " fc2 (Dense)                 (None, 4096)              16781312  \n",
            "                                                                 \n",
            " predictions (Dense)         (None, 2)                 8194      \n",
            "                                                                 \n",
            "=================================================================\n",
            "Total params: 81,839,938\n",
            "Trainable params: 81,839,938\n",
            "Non-trainable params: 0\n",
            "_________________________________________________________________\n",
            "None\n"
          ]
        }
      ]
    },
    {
      "cell_type": "code",
      "source": [
        "print(model_vgg19.summary())"
      ],
      "metadata": {
        "id": "SGddrJtd-cYl"
      },
      "execution_count": null,
      "outputs": []
    },
    {
      "cell_type": "code",
      "source": [
        "print(model_resnet.summary())"
      ],
      "metadata": {
        "id": "QbKefyFj_Yrc"
      },
      "execution_count": null,
      "outputs": []
    },
    {
      "cell_type": "markdown",
      "source": [
        "###Compila e treina rede VGG16"
      ],
      "metadata": {
        "id": "Th_Za2AHjy58"
      }
    },
    {
      "cell_type": "code",
      "source": [
        "xxx = np.array(y_train)\n",
        "xxx.shape"
      ],
      "metadata": {
        "colab": {
          "base_uri": "https://localhost:8080/"
        },
        "id": "rSd096G9len3",
        "outputId": "2178e285-fd23-425d-cd75-f280c4578f35"
      },
      "execution_count": 18,
      "outputs": [
        {
          "output_type": "execute_result",
          "data": {
            "text/plain": [
              "(2800,)"
            ]
          },
          "metadata": {},
          "execution_count": 18
        }
      ]
    },
    {
      "cell_type": "code",
      "source": [
        "#X_train, X_test, y_train, y_test\n",
        "\n",
        "from keras.applications.vgg16 import preprocess_input\n",
        "\n",
        "\n",
        "\n",
        "num_pixels = X_train.shape[1] * X_train.shape[2] * X_train.shape[3]\n",
        "print(X_train.shape)\n",
        "print(num_pixels)\n",
        "\n",
        "#Põe as saídas categorizadas numericamente\n",
        "y_train_categorias = np_utils.to_categorical(y_train, dtype =\"uint8\") \n",
        "y_test_categorias = np_utils.to_categorical(y_test, dtype =\"uint8\") \n",
        "\n",
        "print(\"y_train_categorias: \",y_train_categorias.shape)\n",
        "\n",
        "#transforma os valores dos pixels para float32\n",
        "#x_train2 = X_train.reshape(X_train.shape[0],num_pixels).astype('float32')\n",
        "#x_test2 = X_test.reshape(X_test.shape[0],num_pixels).astype('float32')\n",
        "\n",
        "x_train2 = X_train.reshape(X_train.shape[0],X_train.shape[1],X_train.shape[2],X_train.shape[3]).astype('float32')\n",
        "x_test2 = X_test.reshape(X_test.shape[0],X_test.shape[1],X_test.shape[2],X_test.shape[3]).astype('float32')\n",
        "\n",
        "#Normaliza os dados de 0-255 para 0-1\n",
        "x_train2 = x_train2 / 255\n",
        "x_test2 = x_test2 / 255\n",
        "\n",
        "x_train2 = preprocess_input(x_train2)\n",
        "x_test2 = preprocess_input(x_test2)\n",
        "\n",
        "print(\"x_train2.shape \", x_train2.shape)\n",
        "\n",
        "#model_vgg16.compile(loss='categorical_crossentropy', optimizer=Adam(learning_rate=0.0001), metrics=['accuracy']) #Compila o modelo criado\n",
        "model_vgg16.compile(loss='categorical_crossentropy', optimizer='adam', metrics=['accuracy']) #Compila o modelo criado\n",
        "\n",
        "#result_vgg16 = model_vgg16.fit(x_train2, y_train_categorias, validation_data=(x_test2, y_test_categorias), \n",
        "#                         epochs=20, verbose=1, batch_size=100) #Executa treinamento"
      ],
      "metadata": {
        "colab": {
          "base_uri": "https://localhost:8080/"
        },
        "id": "ZEzfM0pjj2Cs",
        "outputId": "bf619214-cef5-47f4-bef1-2522aa146633"
      },
      "execution_count": 19,
      "outputs": [
        {
          "output_type": "stream",
          "name": "stdout",
          "text": [
            "(2800, 128, 220, 3)\n",
            "84480\n",
            "y_train_categorias:  (2800, 2)\n",
            "x_train2.shape  (2800, 128, 220, 3)\n"
          ]
        }
      ]
    }
  ]
}