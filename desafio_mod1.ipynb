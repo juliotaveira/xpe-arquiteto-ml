{
  "nbformat": 4,
  "nbformat_minor": 0,
  "metadata": {
    "colab": {
      "provenance": [],
      "toc_visible": true
    },
    "kernelspec": {
      "name": "python3",
      "display_name": "Python 3"
    },
    "language_info": {
      "name": "python"
    },
    "accelerator": "GPU",
    "gpuClass": "standard"
  },
  "cells": [
    {
      "cell_type": "markdown",
      "source": [
        "#**Bootcamp Arquiteto de Machine Learning**\n",
        "\n",
        "Desafio do Módulo 1"
      ],
      "metadata": {
        "id": "0kj6aX7KcRTA"
      }
    },
    {
      "cell_type": "markdown",
      "source": [
        "##Carga da Base de Dados"
      ],
      "metadata": {
        "id": "lKvZa5WqcqFf"
      }
    },
    {
      "cell_type": "markdown",
      "source": [
        "###Carrega a base de Dados e deixa na pasta TMP"
      ],
      "metadata": {
        "id": "IpzrmpwkOYUm"
      }
    },
    {
      "cell_type": "code",
      "execution_count": 1,
      "metadata": {
        "colab": {
          "base_uri": "https://localhost:8080/"
        },
        "id": "6CJszY5GHAtv",
        "outputId": "b0005f70-9d2b-4c61-b8a4-7e9304e8650e"
      },
      "outputs": [
        {
          "output_type": "stream",
          "name": "stdout",
          "text": [
            "--2023-01-28 13:02:30--  https://storage.googleapis.com/mledu-datasets/cats_and_dogs_filtered.zip\n",
            "Resolving storage.googleapis.com (storage.googleapis.com)... 172.217.194.128, 74.125.200.128, 74.125.68.128, ...\n",
            "Connecting to storage.googleapis.com (storage.googleapis.com)|172.217.194.128|:443... connected.\n",
            "HTTP request sent, awaiting response... 200 OK\n",
            "Length: 68606236 (65M) [application/zip]\n",
            "Saving to: ‘/tmp/cats_and_dogs_filtered.zip’\n",
            "\n",
            "/tmp/cats_and_dogs_ 100%[===================>]  65.43M  20.5MB/s    in 3.9s    \n",
            "\n",
            "2023-01-28 13:02:35 (16.9 MB/s) - ‘/tmp/cats_and_dogs_filtered.zip’ saved [68606236/68606236]\n",
            "\n"
          ]
        }
      ],
      "source": [
        "\n",
        "!wget --no-check-certificate https://storage.googleapis.com/mledu-datasets/cats_and_dogs_filtered.zip -O /tmp/cats_and_dogs_filtered.zip\n"
      ]
    },
    {
      "cell_type": "markdown",
      "source": [
        "###Importa bibliotecas e abre pastas com o zip baixado"
      ],
      "metadata": {
        "id": "elV2kTtJOhqZ"
      }
    },
    {
      "cell_type": "code",
      "source": [
        "import os, cv2, numpy as np\n",
        "import zipfile\n",
        "from matplotlib import pyplot as plt #importa bilbioteca para criação de gráficos\n",
        "from sklearn.model_selection import train_test_split\n",
        "\n",
        "local_zip = '/tmp/cats_and_dogs_filtered.zip'\n",
        "zip_ref = zipfile.ZipFile(local_zip,'r')\n",
        "zip_ref.extractall('/tmp')\n",
        "\n",
        "zip_ref.close()\n",
        "base_dir = '/tmp/cats_and_dogs_filtered'\n",
        "\n",
        "train_dir = os.path.join(base_dir,'train') #Diretório de Treinamento\n",
        "validation_dir = os.path.join(base_dir,'validation')  #Diretório de Validação\n",
        "\n",
        "train_cats_dir = os.path.join(train_dir,'cats') # Diretório com imagens de treinamentos de gatos\n",
        "train_dogs_dir = os.path.join(train_dir, 'dogs') # Diretório com imagens de treinamentos de cachorros\n",
        "\n",
        "validation_cats_dir = os.path.join(validation_dir,'cats') # Diretório com imagens de testes de gatos\n",
        "validation_dogs_dir = os.path.join(validation_dir,'dogs') # Diretório com imagens de testes de cachorros\n",
        "\n"
      ],
      "metadata": {
        "id": "55iurWLMHdew"
      },
      "execution_count": 2,
      "outputs": []
    },
    {
      "cell_type": "markdown",
      "source": [
        "###Abre os arquivos e cria as categorias "
      ],
      "metadata": {
        "id": "W6y4uOSaOnHa"
      }
    },
    {
      "cell_type": "code",
      "source": [
        "\n",
        "def load_images_folder(folder, categoria):\n",
        "  images = []\n",
        "  categorias = []\n",
        "  for filename in os.listdir(folder):\n",
        "    img = cv2.imread(os.path.join(folder,filename))\n",
        "    if img is not None:\n",
        "      #images.append(img)\n",
        "      #Redimensiona imagem conforme questão\n",
        "      img2 = cv2.resize(img,(220,128))\n",
        "      images.append(img2)\n",
        "      categorias.append(categoria)\n",
        "  return images, categorias\n",
        "\n",
        "lista_x1, lista_y1 = load_images_folder(train_cats_dir,0)\n",
        "lista_x2, lista_y2 = load_images_folder(train_dogs_dir,1)\n",
        "lista_x3, lista_y3 = load_images_folder(validation_cats_dir,0)\n",
        "lista_x4, lista_y4 = load_images_folder(validation_dogs_dir,1)\n",
        "\n"
      ],
      "metadata": {
        "id": "OIWu-fCLL6P2"
      },
      "execution_count": 92,
      "outputs": []
    },
    {
      "cell_type": "code",
      "source": [
        "#Exibe a quantidade de imagens carregadas\n",
        "print(len(lista_x1))\n",
        "print(len(lista_x2))\n",
        "print(len(lista_x3))\n",
        "print(len(lista_x4))\n",
        "\n",
        "lista_imagens = lista_x1 + lista_x2 + lista_x3 + lista_x4\n",
        "lista_categorias = lista_y1 + lista_y2 + lista_y3 + lista_y4\n",
        "\n",
        "print(\"Total Imagens: \",len(lista_imagens))\n",
        "print(\"Total Categorias: \",len(lista_categorias))\n"
      ],
      "metadata": {
        "colab": {
          "base_uri": "https://localhost:8080/"
        },
        "id": "rBxKvJcgPTus",
        "outputId": "39ca220f-772a-4689-e68c-c4769a07e7da"
      },
      "execution_count": 94,
      "outputs": [
        {
          "output_type": "stream",
          "name": "stdout",
          "text": [
            "1000\n",
            "1000\n",
            "500\n",
            "500\n",
            "Total Imagens:  3000\n",
            "Total Categorias:  3000\n"
          ]
        }
      ]
    },
    {
      "cell_type": "markdown",
      "source": [
        "###Exibe uma imagem de exemplo, após redimensionar\n",
        "\n",
        "Para testes, exibe uma imagem e sua categoria. Imagem escolhida aleatoriamente."
      ],
      "metadata": {
        "id": "yF6uxFv1Roty"
      }
    },
    {
      "cell_type": "code",
      "source": [
        "from PIL import Image  # Importa biblioteca de image\n",
        "import numpy as np # Importa numpy\n",
        "from google.colab.patches import cv2_imshow # Importa módulo para imprimir imagem\n",
        "import random\n",
        " \n",
        "index =random.randint(0,len(lista_categorias))\n",
        "print(\"Imagem Index: \",index)\n",
        "\n",
        "print(\"Categoria: \",lista_categorias[index])\n",
        "img = np.array(lista_imagens[index])\n",
        "cv2_imshow(img)\n",
        "\n"
      ],
      "metadata": {
        "colab": {
          "base_uri": "https://localhost:8080/",
          "height": 180
        },
        "id": "z5qUhGo7QQlf",
        "outputId": "67cea82a-33ed-4786-8c39-46bfab50271c"
      },
      "execution_count": 96,
      "outputs": [
        {
          "output_type": "stream",
          "name": "stdout",
          "text": [
            "Imagem Index:  1358\n",
            "Categoria:  1\n"
          ]
        },
        {
          "output_type": "display_data",
          "data": {
            "text/plain": [
              "<PIL.Image.Image image mode=RGB size=220x128 at 0x7FEB74E119A0>"
            ],
            "image/png": "[encoded data removed]"
          },
          "metadata": {}
        }
      ]
    },
    {
      "cell_type": "markdown",
      "source": [],
      "metadata": {
        "id": "aOpvrFYvUueZ"
      }
    },
    {
      "cell_type": "markdown",
      "source": [
        "##Augmentation - imagens sintéticas\n"
      ],
      "metadata": {
        "id": "Rz8oZKs3fTXp"
      }
    },
    {
      "cell_type": "markdown",
      "source": [
        "###Utiliza o Augmentation para gerar novas imagens sintéticas"
      ],
      "metadata": {
        "id": "PrwwRzXBUuj7"
      }
    },
    {
      "cell_type": "code",
      "source": [
        "from keras.preprocessing.image import ImageDataGenerator # Importa biblioteca de data augmentation\n",
        "\n",
        "#Função para gerar N imagens sintéticas\n",
        "def gerarImagemSintetica(img, qtd):\n",
        "  # Cria o objeto de data agumentation\n",
        "  #Varia altura e largura em 20%, rotação em 45graus e zoom entre de 0.8 e 1\n",
        "  shift_altura = 0.2 #20%\n",
        "  shift_largura = 0.2 #20%\n",
        "  rotação_angulo = 45 #45 graus\n",
        "  zoom_start_end = [0.8, 1.0] #Define o Zoom entre 0.8 e 1\n",
        "\n",
        "  aug = ImageDataGenerator(height_shift_range=shift_altura, width_shift_range=shift_largura, \n",
        "                           rotation_range=rotação_angulo, zoom_range=zoom_start_end)\n",
        "\n",
        "  # adiciona uma nova dimensão\n",
        "  imagem = np.array(img)\n",
        "  imagem = np.expand_dims(imagem, axis=0)\n",
        "\n",
        "  # Realiza data augmentation com a imagem passada\n",
        "  imageGen = aug.flow(imagem, batch_size = 1)\n",
        "\n",
        "  resultado = []\n",
        "\n",
        "  # Imprime imagens geradas\n",
        "  for i in range(qtd):\n",
        "    next = imageGen.next()\n",
        "    resultado.append(next[0,:,:,:])#Retira uma dimensão que foi adicionada no início.\n",
        "  return resultado\n",
        "\n",
        "lista_imagens_sinteticas = []\n",
        "lista_categorias_sinteticas = []\n",
        "for i in range(len(lista_imagens)):\n",
        "  \n",
        "  #São 3000 imagens na base. Vamos só pegar 3 em 3 para ficar ao todo 1000, conforme solciitados\n",
        "  if ( i% 3 != 0):\n",
        "    continue\n",
        "\n",
        "  imagem = lista_imagens[i]\n",
        "  categoria = lista_categorias[i]\n",
        "\n",
        "  #Coloca a categoria na categoria buscada\n",
        "  lista_categorias_sinteticas.append(categoria)\n",
        "  lista_imagens_sinteticas = lista_imagens_sinteticas + gerarImagemSintetica(imagem,1)\n",
        "\n",
        "\n",
        "print(\"Imagens Sinteticas Geradas: \", len(lista_imagens_sinteticas))\n",
        "\n",
        "#Junta as imagens sinteticas no final da base\n",
        "lista_imagens = lista_imagens + lista_imagens_sinteticas\n",
        "lista_categorias = lista_categorias + lista_categorias_sinteticas\n",
        "\n",
        "print(\"Total de imagens na base: \", len(lista_imagens))\n",
        "print(\"Total de Categorias na base: \", len(lista_categorias))"
      ],
      "metadata": {
        "colab": {
          "base_uri": "https://localhost:8080/"
        },
        "id": "rT2n14pjTlmA",
        "outputId": "57c693e3-3d36-44a5-b4f4-b06165fd4c85"
      },
      "execution_count": 97,
      "outputs": [
        {
          "output_type": "stream",
          "name": "stdout",
          "text": [
            "Imagens Sinteticas Geradas:  1000\n",
            "Total de imagens na base:  4000\n",
            "Total de Categorias na base:  4000\n"
          ]
        }
      ]
    },
    {
      "cell_type": "markdown",
      "source": [
        "##Separa os dados de treinamento e testes"
      ],
      "metadata": {
        "id": "_mmNuwP97rRX"
      }
    },
    {
      "cell_type": "code",
      "source": [
        "from sklearn.model_selection import train_test_split\n",
        "\n",
        "X_train, X_test, y_train, y_test = train_test_split(lista_imagens, lista_categorias, test_size=0.30)\n",
        "print(\"Tamanho treinamento: \",len(X_train))\n",
        "print(\"Tamanho testes: \",len(X_test))"
      ],
      "metadata": {
        "colab": {
          "base_uri": "https://localhost:8080/"
        },
        "id": "jAZSdKTB2Gto",
        "outputId": "ff16924f-32d4-4c9a-aa87-1b89ec322c87"
      },
      "execution_count": 98,
      "outputs": [
        {
          "output_type": "stream",
          "name": "stdout",
          "text": [
            "Tamanho treinamento:  2800\n",
            "Tamanho testes:  1200\n"
          ]
        }
      ]
    },
    {
      "cell_type": "code",
      "source": [
        "print(X_train[0].shape)"
      ],
      "metadata": {
        "colab": {
          "base_uri": "https://localhost:8080/"
        },
        "id": "CgzSpYmVR6at",
        "outputId": "47956e93-e785-4f5f-be16-54ef8c2f0f3a"
      },
      "execution_count": null,
      "outputs": [
        {
          "output_type": "stream",
          "name": "stdout",
          "text": [
            "(499, 376, 3)\n"
          ]
        }
      ]
    },
    {
      "cell_type": "markdown",
      "source": [
        "##Carregar redes"
      ],
      "metadata": {
        "id": "Ntviqu_99iV2"
      }
    },
    {
      "cell_type": "markdown",
      "source": [
        "###Importa e carrega as redes solicitadas. \n",
        "\n",
        "Na importação, foram utilizadas as configurações definidas no enunciado das questões."
      ],
      "metadata": {
        "id": "HISNrDS7iuqm"
      }
    },
    {
      "cell_type": "code",
      "source": [
        "from tensorflow.keras.applications.vgg16 import VGG16\n",
        "from tensorflow.keras.applications.vgg19 import VGG19\n",
        "from tensorflow.keras.applications.resnet import ResNet152\n",
        "from keras.utils import np_utils\n",
        "\n",
        "model_vgg16 = VGG16(weights=None, input_shape=(220,128,3), classes=2)\n",
        "model_vgg19 = VGG19(weights=None, input_shape=(220,128,3), classes=2)\n",
        "model_resnet = ResNet152(weights=None,input_shape=(220,128,3), classes=2)\n"
      ],
      "metadata": {
        "id": "VFvTcHA69lyG"
      },
      "execution_count": 99,
      "outputs": []
    },
    {
      "cell_type": "markdown",
      "source": [
        "###Exibe resumo das redes carregadas"
      ],
      "metadata": {
        "id": "egrmM657jKei"
      }
    },
    {
      "cell_type": "code",
      "source": [
        "print(model_vgg16.summary())\n"
      ],
      "metadata": {
        "id": "F192G7de-XVB"
      },
      "execution_count": null,
      "outputs": []
    },
    {
      "cell_type": "code",
      "source": [
        "print(model_vgg19.summary())"
      ],
      "metadata": {
        "id": "SGddrJtd-cYl"
      },
      "execution_count": null,
      "outputs": []
    },
    {
      "cell_type": "code",
      "source": [
        "print(model_resnet.summary())"
      ],
      "metadata": {
        "id": "QbKefyFj_Yrc"
      },
      "execution_count": null,
      "outputs": []
    },
    {
      "cell_type": "markdown",
      "source": [
        "###Compila e treina rede VGG16"
      ],
      "metadata": {
        "id": "Th_Za2AHjy58"
      }
    },
    {
      "cell_type": "code",
      "source": [
        "print(type(X_train))\n",
        "print(type(X_train[0]))\n"
      ],
      "metadata": {
        "colab": {
          "base_uri": "https://localhost:8080/"
        },
        "id": "mvwPIRnWnxZH",
        "outputId": "1e378133-a1ac-4ab6-953f-e2c9179617b5"
      },
      "execution_count": 103,
      "outputs": [
        {
          "output_type": "stream",
          "name": "stdout",
          "text": [
            "<class 'list'>\n",
            "<class 'numpy.ndarray'>\n"
          ]
        }
      ]
    },
    {
      "cell_type": "code",
      "source": [
        "#X_train, X_test, y_train, y_test\n",
        "\n",
        "num_pixels = X_train[0].shape[1] * X_train[0].shape[2]\n",
        "print(X_train[0].shape)\n",
        "print(num_pixels)\n",
        "\n",
        "#Põe as saídas categorizadas numericamente\n",
        "y_train_categorias = np_utils.to_categorical(y_train, dtype =\"uint8\") \n",
        "y_test_categorias = np_utils.to_categorical(y_test, dtype =\"uint8\") \n",
        "\n",
        "#transforma os valores dos pixels para float32\n",
        "#x_train2 = X_train[0].reshape(X_train.shape[0],num_pixels).astype('float32')\n",
        "#x_test2 = X_test[0].reshape(X_test.shape[0],num_pixels).astype('float32')\n",
        "\n",
        "#Normaliza os dados de 0-255 para 0-1\n",
        "x_train2 = x_train / 255\n",
        "x_test2 = x_test / 255\n",
        "\n",
        "\n",
        "#model_vgg16.compile(loss='categorical_crossentropy', optimizer=Adam(learning_rate=0.0001), metrics=['accuracy']) #Compila o modelo criado\n",
        "model_vgg16.compile(loss='categorical_crossentropy', optimizer='adam', metrics=['accuracy']) #Compila o modelo criado\n",
        "\n",
        "result_vgg16 = model.fit(x_train2, y_train_categorias, validation_data=(x_test2, y_test_categorias), \n",
        "                         epochs=20, verbose=1, batch_size=100) #Executa treinamento"
      ],
      "metadata": {
        "colab": {
          "base_uri": "https://localhost:8080/",
          "height": 269
        },
        "id": "ZEzfM0pjj2Cs",
        "outputId": "c4d69dc9-b67c-406b-cccb-21cf5e0a2a31"
      },
      "execution_count": 104,
      "outputs": [
        {
          "output_type": "stream",
          "name": "stdout",
          "text": [
            "(128, 220, 3)\n",
            "660\n"
          ]
        },
        {
          "output_type": "error",
          "ename": "NameError",
          "evalue": "ignored",
          "traceback": [
            "\u001b[0;31m---------------------------------------------------------------------------\u001b[0m",
            "\u001b[0;31mNameError\u001b[0m                                 Traceback (most recent call last)",
            "\u001b[0;32m<ipython-input-104-c83158f9b14b>\u001b[0m in \u001b[0;36m<module>\u001b[0;34m\u001b[0m\n\u001b[1;32m     14\u001b[0m \u001b[0;34m\u001b[0m\u001b[0m\n\u001b[1;32m     15\u001b[0m \u001b[0;31m#Normaliza os dados de 0-255 para 0-1\u001b[0m\u001b[0;34m\u001b[0m\u001b[0;34m\u001b[0m\u001b[0;34m\u001b[0m\u001b[0m\n\u001b[0;32m---> 16\u001b[0;31m \u001b[0mx_train2\u001b[0m \u001b[0;34m=\u001b[0m \u001b[0mx_train\u001b[0m \u001b[0;34m/\u001b[0m \u001b[0;36m255\u001b[0m\u001b[0;34m\u001b[0m\u001b[0;34m\u001b[0m\u001b[0m\n\u001b[0m\u001b[1;32m     17\u001b[0m \u001b[0mx_test2\u001b[0m \u001b[0;34m=\u001b[0m \u001b[0mx_test\u001b[0m \u001b[0;34m/\u001b[0m \u001b[0;36m255\u001b[0m\u001b[0;34m\u001b[0m\u001b[0;34m\u001b[0m\u001b[0m\n\u001b[1;32m     18\u001b[0m \u001b[0;34m\u001b[0m\u001b[0m\n",
            "\u001b[0;31mNameError\u001b[0m: name 'x_train' is not defined"
          ]
        }
      ]
    },
    {
      "cell_type": "code",
      "source": [
        "from keras.datasets import fashion_mnist\n",
        "xxx = fashion_mnist.load_data()"
      ],
      "metadata": {
        "colab": {
          "base_uri": "https://localhost:8080/"
        },
        "id": "EliIXo_HtZra",
        "outputId": "aca29c6a-0f6a-4d42-ff55-169f265abbbe"
      },
      "execution_count": 107,
      "outputs": [
        {
          "output_type": "stream",
          "name": "stdout",
          "text": [
            "Downloading data from https://storage.googleapis.com/tensorflow/tf-keras-datasets/train-labels-idx1-ubyte.gz\n",
            "29515/29515 [==============================] - 0s 0us/step\n",
            "Downloading data from https://storage.googleapis.com/tensorflow/tf-keras-datasets/train-images-idx3-ubyte.gz\n",
            "26421880/26421880 [==============================] - 2s 0us/step\n",
            "Downloading data from https://storage.googleapis.com/tensorflow/tf-keras-datasets/t10k-labels-idx1-ubyte.gz\n",
            "5148/5148 [==============================] - 0s 0us/step\n",
            "Downloading data from https://storage.googleapis.com/tensorflow/tf-keras-datasets/t10k-images-idx3-ubyte.gz\n",
            "4422102/4422102 [==============================] - 0s 0us/step\n"
          ]
        }
      ]
    },
    {
      "cell_type": "code",
      "source": [
        "(X_train, y_train), (X_test, y_test) = fashion_mnist.load_data()\n",
        "print(X_train.shape)"
      ],
      "metadata": {
        "colab": {
          "base_uri": "https://localhost:8080/"
        },
        "id": "3h59lZzst0SO",
        "outputId": "61ad6fba-3c1e-4b69-dbbd-2148d719b24c"
      },
      "execution_count": 114,
      "outputs": [
        {
          "output_type": "stream",
          "name": "stdout",
          "text": [
            "(60000, 28, 28)\n"
          ]
        }
      ]
    }
  ]
}